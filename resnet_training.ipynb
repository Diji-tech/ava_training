{
 "cells": [
  {
   "cell_type": "code",
   "execution_count": 15,
   "metadata": {},
   "outputs": [
    {
     "name": "stdout",
     "output_type": "stream",
     "text": [
      "2.9.0\n"
     ]
    }
   ],
   "source": [
    "import keras\n",
    "\n",
    "from keras.layers import Dense, Conv2D, BatchNormalization, Activation\n",
    "from keras.layers import AveragePooling2D, Input, Flatten\n",
    "from keras.optimizers import Adam\n",
    "from keras.callbacks import ModelCheckpoint, LearningRateScheduler\n",
    "from keras.callbacks import ReduceLROnPlateau\n",
    "from keras.preprocessing.image import ImageDataGenerator\n",
    "from keras.regularizers import l2\n",
    "from keras.models import Model\n",
    "import numpy as np\n",
    "import os\n",
    "\n",
    "from sklearn.preprocessing import LabelBinarizer\n",
    "from sklearn.model_selection import train_test_split\n",
    "from sklearn.metrics import classification_report\n",
    "\n",
    "# from AVA_dataloader import train_generator\n",
    "\n",
    "print(keras.__version__)\n",
    "os.environ['CUDA_DEVICES_VISIBLE'] = '1'\n"
   ]
  },
  {
   "cell_type": "code",
   "execution_count": 9,
   "metadata": {},
   "outputs": [
    {
     "name": "stdout",
     "output_type": "stream",
     "text": [
      "load training data successfully\n"
     ]
    }
   ],
   "source": [
    "(images, labels) = train_generator()\n",
    "print(\"load  data successfully\")"
   ]
  },
  {
   "cell_type": "code",
   "execution_count": null,
   "metadata": {},
   "outputs": [],
   "source": [
    "# 对图像数据做scale处理\n",
    "images = np.array(images, dtype=\"float\") / 255.0\n",
    "labels = np.array(labels)\n",
    "\n",
    "# 数据集切分\n",
    "(image_train, image_test, label_train, label_test) = train_test_split(images, labels, test_size=0.25, random_state=42)\n",
    "\n",
    "# one-hot 编码\n",
    "label_train = LabelBinarizer().fit_transform(label_train)\n",
    "label_test = LabelBinarizer().fit_transform(label_test)\n",
    "\n",
    "# 数据生成器处理\n",
    "data_generator = ImageDataGenerator(rotation_range=30, width_shift_range=0.1,\n",
    "    height_shift_range=0.1, shear_range=0.2, zoom_range=0.2,\n",
    "    horizontal_flip=True, fill_mode=\"nearest\")\n"
   ]
  },
  {
   "cell_type": "code",
   "execution_count": 10,
   "metadata": {},
   "outputs": [],
   "source": [
    "\n",
    "# 主程序\n",
    "def main():\n",
    "    # 输入图片为256x256，9个分类\n",
    "    shape, classes = (256, 256, 3), 9\n",
    " \n",
    "    # 调用keras的ResNet50模型\n",
    "    model = keras.applications.resnet50.ResNet50(input_shape = shape, weights=None, classes=classes)\n",
    "    model.compile(optimizer=\"adam\", loss=\"categorical_crossentropy\", metrics=[\"accuracy\"])\n",
    "\n",
    "    # 训练模型\n",
    "    # training = model.fit(image_train, label_train, epochs=30, batch_size=6)\n",
    "    training = model.fit_generator(data_generator(image_train, label_train, batch_size = 6),\n",
    "            validation_data = (image_test, label_test), steps_per_epoch=len(image_train) // 6,\n",
    "            epochs=30 )\n",
    "\n",
    "     # 评估模型\n",
    "    model.evaluate(image_test, label_test, batch_size=32)\n",
    " \n",
    "    # 把训练好的模型保存到文件\n",
    "    model.save('resnet_ava_classification.h5')\n",
    "    # model = keras.models.load_model('resnet_model_dog_n_face.h5')\n"
   ]
  }
 ],
 "metadata": {
  "interpreter": {
   "hash": "f978619c0f469388836fd775f7119d9a9b50c7666ded04dd0a25f2e65c088fc9"
  },
  "kernelspec": {
   "display_name": "Python 3.10.4 64-bit",
   "language": "python",
   "name": "python3"
  },
  "language_info": {
   "codemirror_mode": {
    "name": "ipython",
    "version": 3
   },
   "file_extension": ".py",
   "mimetype": "text/x-python",
   "name": "python",
   "nbconvert_exporter": "python",
   "pygments_lexer": "ipython3",
   "version": "3.10.4"
  },
  "orig_nbformat": 4
 },
 "nbformat": 4,
 "nbformat_minor": 2
}
