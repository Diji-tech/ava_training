{
 "cells": [
  {
   "cell_type": "code",
   "execution_count": null,
   "metadata": {},
   "outputs": [],
   "source": [
    "# -*- coding: utf-8 -*-\n",
    "import numpy as np\n",
    "import os\n",
    "import glob\n",
    "\n",
    "import tensorflow as tf\n",
    "\n",
    "# path to the images and the text file which holds the scores and ids\n",
    "base_images_path = r'XXX\\images\\\\'\n",
    "ava_dataset_path = r'XXX\\AVA.txt'\n",
    "\n",
    "IMAGE_SIZE = 224\n",
    "\n",
    "files = glob.glob(base_images_path + \"*.jpg\")\n",
    "files = sorted(files)\n",
    "\n",
    "train_image_paths = [] # 存储image路径\n",
    "train_labels = []  # 存储image的标签\n",
    "train_scores = []  # 存储image分数\n",
    "\n",
    "print(\"Loading training set\")"
   ]
  },
  {
   "cell_type": "code",
   "execution_count": null,
   "metadata": {},
   "outputs": [],
   "source": [
    "with open(ava_dataset_path, mode='r') as f:\n",
    "    ### 这里我们可以只选择一部分数据，整个数据集太大了，可以考虑选择每个种类先整1000张图片试试\n",
    "    lines = f.readlines()\n",
    "    for i, line in enumerate(lines):\n",
    "        token = line.split()\n",
    "        id = int(token[1])\n",
    "\n",
    "        values = np.array(token[2:12], dtype='float32')\n",
    "        values /= values.sum()\n",
    "\n",
    "        file_path = base_images_path + str(id) + '.jpg'\n",
    "        if os.path.exists(file_path):\n",
    "            train_image_paths.append(file_path)\n",
    "            train_scores.append(values)  \n",
    "            train_labels.append(\"portait\") ## TODO:把对应id image的label存储到这个list中\n",
    "\n",
    "        count = 255000 // 20\n",
    "        if i % count == 0 and i != 0:\n",
    "            print('Loaded %d percent of the dataset' % (i / 255000. * 100))"
   ]
  },
  {
   "cell_type": "code",
   "execution_count": 2,
   "metadata": {},
   "outputs": [],
   "source": [
    "### 可以参考repo里面的另一个文件：data_loader.ipynb\n",
    "### 他那个里面有怎么完成上面 data load 逻辑，可以参考\n",
    "def train_generator(batchsize, shuffle=True):\n",
    "    ### 这是在model训练模块中调用的，返回一个tuple：(images, labels)"
   ]
  },
  {
   "cell_type": "code",
   "execution_count": null,
   "metadata": {},
   "outputs": [],
   "source": [
    "# 这个链接里有完整训练的步骤，可参考：https://blog.csdn.net/weixin_41943311/article/details/102367729"
   ]
  }
 ],
 "metadata": {
  "interpreter": {
   "hash": "f978619c0f469388836fd775f7119d9a9b50c7666ded04dd0a25f2e65c088fc9"
  },
  "kernelspec": {
   "display_name": "Python 3.10.4 64-bit",
   "language": "python",
   "name": "python3"
  },
  "language_info": {
   "codemirror_mode": {
    "name": "ipython",
    "version": 3
   },
   "file_extension": ".py",
   "mimetype": "text/x-python",
   "name": "python",
   "nbconvert_exporter": "python",
   "pygments_lexer": "ipython3",
   "version": "3.10.4"
  },
  "orig_nbformat": 4
 },
 "nbformat": 4,
 "nbformat_minor": 2
}
